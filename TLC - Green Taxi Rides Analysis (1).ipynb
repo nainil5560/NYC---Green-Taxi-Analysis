{
 "cells": [
  {
   "cell_type": "code",
   "execution_count": 1,
   "metadata": {},
   "outputs": [],
   "source": [
    "import numpy as np\n",
    "import pandas as pd\n",
    "import matplotlib.pyplot as plt\n",
    "import seaborn as sns\n",
    "sns.set_style('whitegrid')\n",
    "%matplotlib inline"
   ]
  },
  {
   "cell_type": "code",
   "execution_count": 2,
   "metadata": {},
   "outputs": [],
   "source": [
    "taxi = pd.read_csv('green_tripdata_2018-06.csv')"
   ]
  },
  {
   "cell_type": "code",
   "execution_count": 3,
   "metadata": {},
   "outputs": [
    {
     "data": {
      "text/html": [
       "<div>\n",
       "<style scoped>\n",
       "    .dataframe tbody tr th:only-of-type {\n",
       "        vertical-align: middle;\n",
       "    }\n",
       "\n",
       "    .dataframe tbody tr th {\n",
       "        vertical-align: top;\n",
       "    }\n",
       "\n",
       "    .dataframe thead th {\n",
       "        text-align: right;\n",
       "    }\n",
       "</style>\n",
       "<table border=\"1\" class=\"dataframe\">\n",
       "  <thead>\n",
       "    <tr style=\"text-align: right;\">\n",
       "      <th></th>\n",
       "      <th>VendorID</th>\n",
       "      <th>lpep_pickup_datetime</th>\n",
       "      <th>lpep_dropoff_datetime</th>\n",
       "      <th>store_and_fwd_flag</th>\n",
       "      <th>RatecodeID</th>\n",
       "      <th>PULocationID</th>\n",
       "      <th>DOLocationID</th>\n",
       "      <th>passenger_count</th>\n",
       "      <th>trip_distance</th>\n",
       "      <th>fare_amount</th>\n",
       "      <th>extra</th>\n",
       "      <th>mta_tax</th>\n",
       "      <th>tip_amount</th>\n",
       "      <th>tolls_amount</th>\n",
       "      <th>ehail_fee</th>\n",
       "      <th>improvement_surcharge</th>\n",
       "      <th>total_amount</th>\n",
       "      <th>payment_type</th>\n",
       "      <th>trip_type</th>\n",
       "    </tr>\n",
       "  </thead>\n",
       "  <tbody>\n",
       "    <tr>\n",
       "      <th>0</th>\n",
       "      <td>2</td>\n",
       "      <td>2018-06-01 00:33:55</td>\n",
       "      <td>2018-06-01 00:36:13</td>\n",
       "      <td>N</td>\n",
       "      <td>1</td>\n",
       "      <td>66</td>\n",
       "      <td>33</td>\n",
       "      <td>5</td>\n",
       "      <td>0.51</td>\n",
       "      <td>4.0</td>\n",
       "      <td>0.5</td>\n",
       "      <td>0.5</td>\n",
       "      <td>0.70</td>\n",
       "      <td>0.0</td>\n",
       "      <td>NaN</td>\n",
       "      <td>0.3</td>\n",
       "      <td>6.00</td>\n",
       "      <td>1</td>\n",
       "      <td>1</td>\n",
       "    </tr>\n",
       "    <tr>\n",
       "      <th>1</th>\n",
       "      <td>2</td>\n",
       "      <td>2018-06-01 00:40:36</td>\n",
       "      <td>2018-06-01 00:49:46</td>\n",
       "      <td>N</td>\n",
       "      <td>1</td>\n",
       "      <td>25</td>\n",
       "      <td>49</td>\n",
       "      <td>5</td>\n",
       "      <td>1.97</td>\n",
       "      <td>9.0</td>\n",
       "      <td>0.5</td>\n",
       "      <td>0.5</td>\n",
       "      <td>2.06</td>\n",
       "      <td>0.0</td>\n",
       "      <td>NaN</td>\n",
       "      <td>0.3</td>\n",
       "      <td>12.36</td>\n",
       "      <td>1</td>\n",
       "      <td>1</td>\n",
       "    </tr>\n",
       "    <tr>\n",
       "      <th>2</th>\n",
       "      <td>2</td>\n",
       "      <td>2018-06-01 00:57:12</td>\n",
       "      <td>2018-06-01 01:02:58</td>\n",
       "      <td>N</td>\n",
       "      <td>1</td>\n",
       "      <td>61</td>\n",
       "      <td>49</td>\n",
       "      <td>5</td>\n",
       "      <td>1.40</td>\n",
       "      <td>6.5</td>\n",
       "      <td>0.5</td>\n",
       "      <td>0.5</td>\n",
       "      <td>0.00</td>\n",
       "      <td>0.0</td>\n",
       "      <td>NaN</td>\n",
       "      <td>0.3</td>\n",
       "      <td>7.80</td>\n",
       "      <td>2</td>\n",
       "      <td>1</td>\n",
       "    </tr>\n",
       "    <tr>\n",
       "      <th>3</th>\n",
       "      <td>2</td>\n",
       "      <td>2018-06-01 00:10:13</td>\n",
       "      <td>2018-06-01 00:16:27</td>\n",
       "      <td>N</td>\n",
       "      <td>1</td>\n",
       "      <td>49</td>\n",
       "      <td>97</td>\n",
       "      <td>1</td>\n",
       "      <td>1.36</td>\n",
       "      <td>7.0</td>\n",
       "      <td>0.5</td>\n",
       "      <td>0.5</td>\n",
       "      <td>0.00</td>\n",
       "      <td>0.0</td>\n",
       "      <td>NaN</td>\n",
       "      <td>0.3</td>\n",
       "      <td>8.30</td>\n",
       "      <td>2</td>\n",
       "      <td>1</td>\n",
       "    </tr>\n",
       "    <tr>\n",
       "      <th>4</th>\n",
       "      <td>1</td>\n",
       "      <td>2018-06-01 00:32:08</td>\n",
       "      <td>2018-06-01 00:52:06</td>\n",
       "      <td>N</td>\n",
       "      <td>1</td>\n",
       "      <td>75</td>\n",
       "      <td>127</td>\n",
       "      <td>1</td>\n",
       "      <td>7.90</td>\n",
       "      <td>24.0</td>\n",
       "      <td>0.5</td>\n",
       "      <td>0.5</td>\n",
       "      <td>6.30</td>\n",
       "      <td>0.0</td>\n",
       "      <td>NaN</td>\n",
       "      <td>0.3</td>\n",
       "      <td>31.60</td>\n",
       "      <td>1</td>\n",
       "      <td>1</td>\n",
       "    </tr>\n",
       "  </tbody>\n",
       "</table>\n",
       "</div>"
      ],
      "text/plain": [
       "   VendorID lpep_pickup_datetime lpep_dropoff_datetime store_and_fwd_flag  \\\n",
       "0         2  2018-06-01 00:33:55   2018-06-01 00:36:13                  N   \n",
       "1         2  2018-06-01 00:40:36   2018-06-01 00:49:46                  N   \n",
       "2         2  2018-06-01 00:57:12   2018-06-01 01:02:58                  N   \n",
       "3         2  2018-06-01 00:10:13   2018-06-01 00:16:27                  N   \n",
       "4         1  2018-06-01 00:32:08   2018-06-01 00:52:06                  N   \n",
       "\n",
       "   RatecodeID  PULocationID  DOLocationID  passenger_count  trip_distance  \\\n",
       "0           1            66            33                5           0.51   \n",
       "1           1            25            49                5           1.97   \n",
       "2           1            61            49                5           1.40   \n",
       "3           1            49            97                1           1.36   \n",
       "4           1            75           127                1           7.90   \n",
       "\n",
       "   fare_amount  extra  mta_tax  tip_amount  tolls_amount  ehail_fee  \\\n",
       "0          4.0    0.5      0.5        0.70           0.0        NaN   \n",
       "1          9.0    0.5      0.5        2.06           0.0        NaN   \n",
       "2          6.5    0.5      0.5        0.00           0.0        NaN   \n",
       "3          7.0    0.5      0.5        0.00           0.0        NaN   \n",
       "4         24.0    0.5      0.5        6.30           0.0        NaN   \n",
       "\n",
       "   improvement_surcharge  total_amount  payment_type  trip_type  \n",
       "0                    0.3          6.00             1          1  \n",
       "1                    0.3         12.36             1          1  \n",
       "2                    0.3          7.80             2          1  \n",
       "3                    0.3          8.30             2          1  \n",
       "4                    0.3         31.60             1          1  "
      ]
     },
     "execution_count": 3,
     "metadata": {},
     "output_type": "execute_result"
    }
   ],
   "source": [
    "taxi.head(5)"
   ]
  },
  {
   "cell_type": "markdown",
   "metadata": {},
   "source": [
    "<h1> Task 1 - Data preprocessing"
   ]
  },
  {
   "cell_type": "code",
   "execution_count": 4,
   "metadata": {},
   "outputs": [
    {
     "data": {
      "text/html": [
       "<div>\n",
       "<style scoped>\n",
       "    .dataframe tbody tr th:only-of-type {\n",
       "        vertical-align: middle;\n",
       "    }\n",
       "\n",
       "    .dataframe tbody tr th {\n",
       "        vertical-align: top;\n",
       "    }\n",
       "\n",
       "    .dataframe thead th {\n",
       "        text-align: right;\n",
       "    }\n",
       "</style>\n",
       "<table border=\"1\" class=\"dataframe\">\n",
       "  <thead>\n",
       "    <tr style=\"text-align: right;\">\n",
       "      <th></th>\n",
       "      <th>VendorID</th>\n",
       "      <th>RatecodeID</th>\n",
       "      <th>PULocationID</th>\n",
       "      <th>DOLocationID</th>\n",
       "      <th>passenger_count</th>\n",
       "      <th>trip_distance</th>\n",
       "      <th>fare_amount</th>\n",
       "      <th>extra</th>\n",
       "      <th>mta_tax</th>\n",
       "      <th>tip_amount</th>\n",
       "      <th>tolls_amount</th>\n",
       "      <th>ehail_fee</th>\n",
       "      <th>improvement_surcharge</th>\n",
       "      <th>total_amount</th>\n",
       "      <th>payment_type</th>\n",
       "      <th>trip_type</th>\n",
       "    </tr>\n",
       "  </thead>\n",
       "  <tbody>\n",
       "    <tr>\n",
       "      <th>count</th>\n",
       "      <td>739373.000000</td>\n",
       "      <td>739373.000000</td>\n",
       "      <td>739373.000000</td>\n",
       "      <td>739373.000000</td>\n",
       "      <td>739373.000000</td>\n",
       "      <td>739373.000000</td>\n",
       "      <td>739373.000000</td>\n",
       "      <td>739373.000000</td>\n",
       "      <td>739373.000000</td>\n",
       "      <td>739373.000000</td>\n",
       "      <td>739373.000000</td>\n",
       "      <td>0.0</td>\n",
       "      <td>739373.000000</td>\n",
       "      <td>739373.000000</td>\n",
       "      <td>739373.000000</td>\n",
       "      <td>739373.000000</td>\n",
       "    </tr>\n",
       "    <tr>\n",
       "      <th>mean</th>\n",
       "      <td>1.838727</td>\n",
       "      <td>1.065254</td>\n",
       "      <td>111.230031</td>\n",
       "      <td>129.260628</td>\n",
       "      <td>1.357878</td>\n",
       "      <td>3.298843</td>\n",
       "      <td>13.906104</td>\n",
       "      <td>0.325185</td>\n",
       "      <td>0.489056</td>\n",
       "      <td>1.023625</td>\n",
       "      <td>0.186808</td>\n",
       "      <td>NaN</td>\n",
       "      <td>0.293675</td>\n",
       "      <td>16.252184</td>\n",
       "      <td>1.445667</td>\n",
       "      <td>1.015742</td>\n",
       "    </tr>\n",
       "    <tr>\n",
       "      <th>std</th>\n",
       "      <td>0.367783</td>\n",
       "      <td>0.496413</td>\n",
       "      <td>74.388120</td>\n",
       "      <td>76.823702</td>\n",
       "      <td>1.041089</td>\n",
       "      <td>3.738948</td>\n",
       "      <td>12.779641</td>\n",
       "      <td>0.396634</td>\n",
       "      <td>0.081254</td>\n",
       "      <td>2.040640</td>\n",
       "      <td>1.400115</td>\n",
       "      <td>NaN</td>\n",
       "      <td>0.048055</td>\n",
       "      <td>13.880869</td>\n",
       "      <td>0.521209</td>\n",
       "      <td>0.124475</td>\n",
       "    </tr>\n",
       "    <tr>\n",
       "      <th>min</th>\n",
       "      <td>1.000000</td>\n",
       "      <td>1.000000</td>\n",
       "      <td>1.000000</td>\n",
       "      <td>1.000000</td>\n",
       "      <td>0.000000</td>\n",
       "      <td>0.000000</td>\n",
       "      <td>-80.000000</td>\n",
       "      <td>-4.500000</td>\n",
       "      <td>-0.500000</td>\n",
       "      <td>-2.000000</td>\n",
       "      <td>-6.000000</td>\n",
       "      <td>NaN</td>\n",
       "      <td>-0.300000</td>\n",
       "      <td>-80.000000</td>\n",
       "      <td>1.000000</td>\n",
       "      <td>1.000000</td>\n",
       "    </tr>\n",
       "    <tr>\n",
       "      <th>25%</th>\n",
       "      <td>2.000000</td>\n",
       "      <td>1.000000</td>\n",
       "      <td>51.000000</td>\n",
       "      <td>62.000000</td>\n",
       "      <td>1.000000</td>\n",
       "      <td>1.100000</td>\n",
       "      <td>6.500000</td>\n",
       "      <td>0.000000</td>\n",
       "      <td>0.500000</td>\n",
       "      <td>0.000000</td>\n",
       "      <td>0.000000</td>\n",
       "      <td>NaN</td>\n",
       "      <td>0.300000</td>\n",
       "      <td>8.300000</td>\n",
       "      <td>1.000000</td>\n",
       "      <td>1.000000</td>\n",
       "    </tr>\n",
       "    <tr>\n",
       "      <th>50%</th>\n",
       "      <td>2.000000</td>\n",
       "      <td>1.000000</td>\n",
       "      <td>82.000000</td>\n",
       "      <td>129.000000</td>\n",
       "      <td>1.000000</td>\n",
       "      <td>1.990000</td>\n",
       "      <td>10.000000</td>\n",
       "      <td>0.000000</td>\n",
       "      <td>0.500000</td>\n",
       "      <td>0.000000</td>\n",
       "      <td>0.000000</td>\n",
       "      <td>NaN</td>\n",
       "      <td>0.300000</td>\n",
       "      <td>12.000000</td>\n",
       "      <td>1.000000</td>\n",
       "      <td>1.000000</td>\n",
       "    </tr>\n",
       "    <tr>\n",
       "      <th>75%</th>\n",
       "      <td>2.000000</td>\n",
       "      <td>1.000000</td>\n",
       "      <td>166.000000</td>\n",
       "      <td>193.000000</td>\n",
       "      <td>1.000000</td>\n",
       "      <td>3.970000</td>\n",
       "      <td>17.000000</td>\n",
       "      <td>0.500000</td>\n",
       "      <td>0.500000</td>\n",
       "      <td>1.700000</td>\n",
       "      <td>0.000000</td>\n",
       "      <td>NaN</td>\n",
       "      <td>0.300000</td>\n",
       "      <td>19.300000</td>\n",
       "      <td>2.000000</td>\n",
       "      <td>1.000000</td>\n",
       "    </tr>\n",
       "    <tr>\n",
       "      <th>max</th>\n",
       "      <td>2.000000</td>\n",
       "      <td>6.000000</td>\n",
       "      <td>265.000000</td>\n",
       "      <td>265.000000</td>\n",
       "      <td>9.000000</td>\n",
       "      <td>143.100000</td>\n",
       "      <td>2113.000000</td>\n",
       "      <td>4.500000</td>\n",
       "      <td>0.500000</td>\n",
       "      <td>444.440000</td>\n",
       "      <td>765.060000</td>\n",
       "      <td>NaN</td>\n",
       "      <td>0.300000</td>\n",
       "      <td>2113.800000</td>\n",
       "      <td>5.000000</td>\n",
       "      <td>2.000000</td>\n",
       "    </tr>\n",
       "  </tbody>\n",
       "</table>\n",
       "</div>"
      ],
      "text/plain": [
       "            VendorID     RatecodeID   PULocationID   DOLocationID  \\\n",
       "count  739373.000000  739373.000000  739373.000000  739373.000000   \n",
       "mean        1.838727       1.065254     111.230031     129.260628   \n",
       "std         0.367783       0.496413      74.388120      76.823702   \n",
       "min         1.000000       1.000000       1.000000       1.000000   \n",
       "25%         2.000000       1.000000      51.000000      62.000000   \n",
       "50%         2.000000       1.000000      82.000000     129.000000   \n",
       "75%         2.000000       1.000000     166.000000     193.000000   \n",
       "max         2.000000       6.000000     265.000000     265.000000   \n",
       "\n",
       "       passenger_count  trip_distance    fare_amount          extra  \\\n",
       "count    739373.000000  739373.000000  739373.000000  739373.000000   \n",
       "mean          1.357878       3.298843      13.906104       0.325185   \n",
       "std           1.041089       3.738948      12.779641       0.396634   \n",
       "min           0.000000       0.000000     -80.000000      -4.500000   \n",
       "25%           1.000000       1.100000       6.500000       0.000000   \n",
       "50%           1.000000       1.990000      10.000000       0.000000   \n",
       "75%           1.000000       3.970000      17.000000       0.500000   \n",
       "max           9.000000     143.100000    2113.000000       4.500000   \n",
       "\n",
       "             mta_tax     tip_amount   tolls_amount  ehail_fee  \\\n",
       "count  739373.000000  739373.000000  739373.000000        0.0   \n",
       "mean        0.489056       1.023625       0.186808        NaN   \n",
       "std         0.081254       2.040640       1.400115        NaN   \n",
       "min        -0.500000      -2.000000      -6.000000        NaN   \n",
       "25%         0.500000       0.000000       0.000000        NaN   \n",
       "50%         0.500000       0.000000       0.000000        NaN   \n",
       "75%         0.500000       1.700000       0.000000        NaN   \n",
       "max         0.500000     444.440000     765.060000        NaN   \n",
       "\n",
       "       improvement_surcharge   total_amount   payment_type      trip_type  \n",
       "count          739373.000000  739373.000000  739373.000000  739373.000000  \n",
       "mean                0.293675      16.252184       1.445667       1.015742  \n",
       "std                 0.048055      13.880869       0.521209       0.124475  \n",
       "min                -0.300000     -80.000000       1.000000       1.000000  \n",
       "25%                 0.300000       8.300000       1.000000       1.000000  \n",
       "50%                 0.300000      12.000000       1.000000       1.000000  \n",
       "75%                 0.300000      19.300000       2.000000       1.000000  \n",
       "max                 0.300000    2113.800000       5.000000       2.000000  "
      ]
     },
     "execution_count": 4,
     "metadata": {},
     "output_type": "execute_result"
    }
   ],
   "source": [
    "taxi.describe()"
   ]
  },
  {
   "cell_type": "code",
   "execution_count": 5,
   "metadata": {},
   "outputs": [
    {
     "data": {
      "text/plain": [
       "VendorID                      0\n",
       "lpep_pickup_datetime          0\n",
       "lpep_dropoff_datetime         0\n",
       "store_and_fwd_flag            0\n",
       "RatecodeID                    0\n",
       "PULocationID                  0\n",
       "DOLocationID                  0\n",
       "passenger_count               0\n",
       "trip_distance                 0\n",
       "fare_amount                   0\n",
       "extra                         0\n",
       "mta_tax                       0\n",
       "tip_amount                    0\n",
       "tolls_amount                  0\n",
       "ehail_fee                739373\n",
       "improvement_surcharge         0\n",
       "total_amount                  0\n",
       "payment_type                  0\n",
       "trip_type                     0\n",
       "dtype: int64"
      ]
     },
     "execution_count": 5,
     "metadata": {},
     "output_type": "execute_result"
    }
   ],
   "source": [
    "# Checking for null values in the taxi dataframe\n",
    "taxi.isnull().sum()"
   ]
  },
  {
   "cell_type": "code",
   "execution_count": 6,
   "metadata": {},
   "outputs": [
    {
     "data": {
      "text/plain": [
       "2    620132\n",
       "1    119241\n",
       "Name: VendorID, dtype: int64"
      ]
     },
     "execution_count": 6,
     "metadata": {},
     "output_type": "execute_result"
    }
   ],
   "source": [
    "# Number of records provided by each of the LPEP provider 1 = Creative Mobile Technologies, LLC; 2= VeriFone Inc.\n",
    "taxi['VendorID'].value_counts()"
   ]
  },
  {
   "cell_type": "code",
   "execution_count": 7,
   "metadata": {},
   "outputs": [],
   "source": [
    "# Dropping the column ehail_fee as the whole column has nan values\n",
    "taxi.drop(['ehail_fee'], axis=1,inplace = True)"
   ]
  },
  {
   "cell_type": "code",
   "execution_count": 8,
   "metadata": {},
   "outputs": [
    {
     "data": {
      "text/html": [
       "<div>\n",
       "<style scoped>\n",
       "    .dataframe tbody tr th:only-of-type {\n",
       "        vertical-align: middle;\n",
       "    }\n",
       "\n",
       "    .dataframe tbody tr th {\n",
       "        vertical-align: top;\n",
       "    }\n",
       "\n",
       "    .dataframe thead th {\n",
       "        text-align: right;\n",
       "    }\n",
       "</style>\n",
       "<table border=\"1\" class=\"dataframe\">\n",
       "  <thead>\n",
       "    <tr style=\"text-align: right;\">\n",
       "      <th></th>\n",
       "      <th>VendorID</th>\n",
       "      <th>lpep_pickup_datetime</th>\n",
       "      <th>lpep_dropoff_datetime</th>\n",
       "      <th>store_and_fwd_flag</th>\n",
       "      <th>RatecodeID</th>\n",
       "      <th>PULocationID</th>\n",
       "      <th>DOLocationID</th>\n",
       "      <th>passenger_count</th>\n",
       "      <th>trip_distance</th>\n",
       "      <th>fare_amount</th>\n",
       "      <th>extra</th>\n",
       "      <th>mta_tax</th>\n",
       "      <th>tip_amount</th>\n",
       "      <th>tolls_amount</th>\n",
       "      <th>improvement_surcharge</th>\n",
       "      <th>total_amount</th>\n",
       "      <th>payment_type</th>\n",
       "      <th>trip_type</th>\n",
       "    </tr>\n",
       "  </thead>\n",
       "  <tbody>\n",
       "    <tr>\n",
       "      <th>0</th>\n",
       "      <td>2</td>\n",
       "      <td>2018-06-01 00:33:55</td>\n",
       "      <td>2018-06-01 00:36:13</td>\n",
       "      <td>N</td>\n",
       "      <td>1</td>\n",
       "      <td>66</td>\n",
       "      <td>33</td>\n",
       "      <td>5</td>\n",
       "      <td>0.51</td>\n",
       "      <td>4.0</td>\n",
       "      <td>0.5</td>\n",
       "      <td>0.5</td>\n",
       "      <td>0.70</td>\n",
       "      <td>0.0</td>\n",
       "      <td>0.3</td>\n",
       "      <td>6.00</td>\n",
       "      <td>1</td>\n",
       "      <td>1</td>\n",
       "    </tr>\n",
       "    <tr>\n",
       "      <th>1</th>\n",
       "      <td>2</td>\n",
       "      <td>2018-06-01 00:40:36</td>\n",
       "      <td>2018-06-01 00:49:46</td>\n",
       "      <td>N</td>\n",
       "      <td>1</td>\n",
       "      <td>25</td>\n",
       "      <td>49</td>\n",
       "      <td>5</td>\n",
       "      <td>1.97</td>\n",
       "      <td>9.0</td>\n",
       "      <td>0.5</td>\n",
       "      <td>0.5</td>\n",
       "      <td>2.06</td>\n",
       "      <td>0.0</td>\n",
       "      <td>0.3</td>\n",
       "      <td>12.36</td>\n",
       "      <td>1</td>\n",
       "      <td>1</td>\n",
       "    </tr>\n",
       "    <tr>\n",
       "      <th>2</th>\n",
       "      <td>2</td>\n",
       "      <td>2018-06-01 00:57:12</td>\n",
       "      <td>2018-06-01 01:02:58</td>\n",
       "      <td>N</td>\n",
       "      <td>1</td>\n",
       "      <td>61</td>\n",
       "      <td>49</td>\n",
       "      <td>5</td>\n",
       "      <td>1.40</td>\n",
       "      <td>6.5</td>\n",
       "      <td>0.5</td>\n",
       "      <td>0.5</td>\n",
       "      <td>0.00</td>\n",
       "      <td>0.0</td>\n",
       "      <td>0.3</td>\n",
       "      <td>7.80</td>\n",
       "      <td>2</td>\n",
       "      <td>1</td>\n",
       "    </tr>\n",
       "    <tr>\n",
       "      <th>3</th>\n",
       "      <td>2</td>\n",
       "      <td>2018-06-01 00:10:13</td>\n",
       "      <td>2018-06-01 00:16:27</td>\n",
       "      <td>N</td>\n",
       "      <td>1</td>\n",
       "      <td>49</td>\n",
       "      <td>97</td>\n",
       "      <td>1</td>\n",
       "      <td>1.36</td>\n",
       "      <td>7.0</td>\n",
       "      <td>0.5</td>\n",
       "      <td>0.5</td>\n",
       "      <td>0.00</td>\n",
       "      <td>0.0</td>\n",
       "      <td>0.3</td>\n",
       "      <td>8.30</td>\n",
       "      <td>2</td>\n",
       "      <td>1</td>\n",
       "    </tr>\n",
       "    <tr>\n",
       "      <th>4</th>\n",
       "      <td>1</td>\n",
       "      <td>2018-06-01 00:32:08</td>\n",
       "      <td>2018-06-01 00:52:06</td>\n",
       "      <td>N</td>\n",
       "      <td>1</td>\n",
       "      <td>75</td>\n",
       "      <td>127</td>\n",
       "      <td>1</td>\n",
       "      <td>7.90</td>\n",
       "      <td>24.0</td>\n",
       "      <td>0.5</td>\n",
       "      <td>0.5</td>\n",
       "      <td>6.30</td>\n",
       "      <td>0.0</td>\n",
       "      <td>0.3</td>\n",
       "      <td>31.60</td>\n",
       "      <td>1</td>\n",
       "      <td>1</td>\n",
       "    </tr>\n",
       "  </tbody>\n",
       "</table>\n",
       "</div>"
      ],
      "text/plain": [
       "   VendorID lpep_pickup_datetime lpep_dropoff_datetime store_and_fwd_flag  \\\n",
       "0         2  2018-06-01 00:33:55   2018-06-01 00:36:13                  N   \n",
       "1         2  2018-06-01 00:40:36   2018-06-01 00:49:46                  N   \n",
       "2         2  2018-06-01 00:57:12   2018-06-01 01:02:58                  N   \n",
       "3         2  2018-06-01 00:10:13   2018-06-01 00:16:27                  N   \n",
       "4         1  2018-06-01 00:32:08   2018-06-01 00:52:06                  N   \n",
       "\n",
       "   RatecodeID  PULocationID  DOLocationID  passenger_count  trip_distance  \\\n",
       "0           1            66            33                5           0.51   \n",
       "1           1            25            49                5           1.97   \n",
       "2           1            61            49                5           1.40   \n",
       "3           1            49            97                1           1.36   \n",
       "4           1            75           127                1           7.90   \n",
       "\n",
       "   fare_amount  extra  mta_tax  tip_amount  tolls_amount  \\\n",
       "0          4.0    0.5      0.5        0.70           0.0   \n",
       "1          9.0    0.5      0.5        2.06           0.0   \n",
       "2          6.5    0.5      0.5        0.00           0.0   \n",
       "3          7.0    0.5      0.5        0.00           0.0   \n",
       "4         24.0    0.5      0.5        6.30           0.0   \n",
       "\n",
       "   improvement_surcharge  total_amount  payment_type  trip_type  \n",
       "0                    0.3          6.00             1          1  \n",
       "1                    0.3         12.36             1          1  \n",
       "2                    0.3          7.80             2          1  \n",
       "3                    0.3          8.30             2          1  \n",
       "4                    0.3         31.60             1          1  "
      ]
     },
     "execution_count": 8,
     "metadata": {},
     "output_type": "execute_result"
    }
   ],
   "source": [
    "taxi.head(5)"
   ]
  },
  {
   "cell_type": "markdown",
   "metadata": {},
   "source": [
    "<h4>Dropping some columns which are not needed for analysis"
   ]
  },
  {
   "cell_type": "code",
   "execution_count": 9,
   "metadata": {},
   "outputs": [
    {
     "data": {
      "text/html": [
       "<div>\n",
       "<style scoped>\n",
       "    .dataframe tbody tr th:only-of-type {\n",
       "        vertical-align: middle;\n",
       "    }\n",
       "\n",
       "    .dataframe tbody tr th {\n",
       "        vertical-align: top;\n",
       "    }\n",
       "\n",
       "    .dataframe thead th {\n",
       "        text-align: right;\n",
       "    }\n",
       "</style>\n",
       "<table border=\"1\" class=\"dataframe\">\n",
       "  <thead>\n",
       "    <tr style=\"text-align: right;\">\n",
       "      <th></th>\n",
       "      <th>VendorID</th>\n",
       "      <th>lpep_pickup_datetime</th>\n",
       "      <th>lpep_dropoff_datetime</th>\n",
       "      <th>RatecodeID</th>\n",
       "      <th>PULocationID</th>\n",
       "      <th>DOLocationID</th>\n",
       "      <th>passenger_count</th>\n",
       "      <th>trip_distance</th>\n",
       "      <th>fare_amount</th>\n",
       "      <th>tip_amount</th>\n",
       "      <th>total_amount</th>\n",
       "      <th>payment_type</th>\n",
       "      <th>trip_type</th>\n",
       "    </tr>\n",
       "  </thead>\n",
       "  <tbody>\n",
       "    <tr>\n",
       "      <th>0</th>\n",
       "      <td>2</td>\n",
       "      <td>2018-06-01 00:33:55</td>\n",
       "      <td>2018-06-01 00:36:13</td>\n",
       "      <td>1</td>\n",
       "      <td>66</td>\n",
       "      <td>33</td>\n",
       "      <td>5</td>\n",
       "      <td>0.51</td>\n",
       "      <td>4.0</td>\n",
       "      <td>0.70</td>\n",
       "      <td>6.00</td>\n",
       "      <td>1</td>\n",
       "      <td>1</td>\n",
       "    </tr>\n",
       "    <tr>\n",
       "      <th>1</th>\n",
       "      <td>2</td>\n",
       "      <td>2018-06-01 00:40:36</td>\n",
       "      <td>2018-06-01 00:49:46</td>\n",
       "      <td>1</td>\n",
       "      <td>25</td>\n",
       "      <td>49</td>\n",
       "      <td>5</td>\n",
       "      <td>1.97</td>\n",
       "      <td>9.0</td>\n",
       "      <td>2.06</td>\n",
       "      <td>12.36</td>\n",
       "      <td>1</td>\n",
       "      <td>1</td>\n",
       "    </tr>\n",
       "  </tbody>\n",
       "</table>\n",
       "</div>"
      ],
      "text/plain": [
       "   VendorID lpep_pickup_datetime lpep_dropoff_datetime  RatecodeID  \\\n",
       "0         2  2018-06-01 00:33:55   2018-06-01 00:36:13           1   \n",
       "1         2  2018-06-01 00:40:36   2018-06-01 00:49:46           1   \n",
       "\n",
       "   PULocationID  DOLocationID  passenger_count  trip_distance  fare_amount  \\\n",
       "0            66            33                5           0.51          4.0   \n",
       "1            25            49                5           1.97          9.0   \n",
       "\n",
       "   tip_amount  total_amount  payment_type  trip_type  \n",
       "0        0.70          6.00             1          1  \n",
       "1        2.06         12.36             1          1  "
      ]
     },
     "execution_count": 9,
     "metadata": {},
     "output_type": "execute_result"
    }
   ],
   "source": [
    "taxi.drop(['store_and_fwd_flag','extra','mta_tax','tolls_amount','improvement_surcharge'], axis=1, inplace=True)\n",
    "taxi.head(2)"
   ]
  },
  {
   "cell_type": "markdown",
   "metadata": {},
   "source": [
    "<h4> Parsing the datatime column from object to datatime datatype"
   ]
  },
  {
   "cell_type": "code",
   "execution_count": 10,
   "metadata": {},
   "outputs": [
    {
     "data": {
      "text/plain": [
       "dtype('O')"
      ]
     },
     "execution_count": 10,
     "metadata": {},
     "output_type": "execute_result"
    }
   ],
   "source": [
    "# The column with datetime is an object datatype which needs to be changed in datetime datatype\n",
    "taxi['lpep_pickup_datetime'].dtype"
   ]
  },
  {
   "cell_type": "code",
   "execution_count": 11,
   "metadata": {},
   "outputs": [
    {
     "data": {
      "text/plain": [
       "dtype('<M8[ns]')"
      ]
     },
     "execution_count": 11,
     "metadata": {},
     "output_type": "execute_result"
    }
   ],
   "source": [
    "# changing to datatime datatype\n",
    "taxi['lpep_pickup_datetime'] = pd.to_datetime(taxi['lpep_pickup_datetime'])\n",
    "taxi['lpep_pickup_datetime'].dtype"
   ]
  },
  {
   "cell_type": "code",
   "execution_count": 12,
   "metadata": {},
   "outputs": [
    {
     "data": {
      "text/plain": [
       "dtype('<M8[ns]')"
      ]
     },
     "execution_count": 12,
     "metadata": {},
     "output_type": "execute_result"
    }
   ],
   "source": [
    "# Changing the datatype from object to datatime for the column lpep_dropoff_datetime\n",
    "taxi['lpep_dropoff_datetime'] = pd.to_datetime(taxi['lpep_dropoff_datetime'])\n",
    "taxi['lpep_dropoff_datetime'].dtype"
   ]
  },
  {
   "cell_type": "markdown",
   "metadata": {},
   "source": [
    "<h4> Splitting the parsed datetime column into hours, months and day of week"
   ]
  },
  {
   "cell_type": "code",
   "execution_count": 13,
   "metadata": {},
   "outputs": [],
   "source": [
    "# splitting the lpep_pickup_datetime to a seperate column inti hours, month aand day of the week.\n",
    "\n",
    "taxi['Hour_pickup'] = taxi['lpep_pickup_datetime'].apply(lambda time: time.hour)\n",
    "taxi['Month_pickup'] = taxi['lpep_pickup_datetime'].apply(lambda time: time.month)\n",
    "taxi['Day of Week_pickup'] = taxi['lpep_pickup_datetime'].apply(lambda time: time.dayofweek)"
   ]
  },
  {
   "cell_type": "markdown",
   "metadata": {},
   "source": [
    "<h4> Using map() mapping the actual categorical name for day of week"
   ]
  },
  {
   "cell_type": "code",
   "execution_count": 14,
   "metadata": {},
   "outputs": [
    {
     "data": {
      "text/html": [
       "<div>\n",
       "<style scoped>\n",
       "    .dataframe tbody tr th:only-of-type {\n",
       "        vertical-align: middle;\n",
       "    }\n",
       "\n",
       "    .dataframe tbody tr th {\n",
       "        vertical-align: top;\n",
       "    }\n",
       "\n",
       "    .dataframe thead th {\n",
       "        text-align: right;\n",
       "    }\n",
       "</style>\n",
       "<table border=\"1\" class=\"dataframe\">\n",
       "  <thead>\n",
       "    <tr style=\"text-align: right;\">\n",
       "      <th></th>\n",
       "      <th>VendorID</th>\n",
       "      <th>lpep_pickup_datetime</th>\n",
       "      <th>lpep_dropoff_datetime</th>\n",
       "      <th>RatecodeID</th>\n",
       "      <th>PULocationID</th>\n",
       "      <th>DOLocationID</th>\n",
       "      <th>passenger_count</th>\n",
       "      <th>trip_distance</th>\n",
       "      <th>fare_amount</th>\n",
       "      <th>tip_amount</th>\n",
       "      <th>total_amount</th>\n",
       "      <th>payment_type</th>\n",
       "      <th>trip_type</th>\n",
       "      <th>Hour_pickup</th>\n",
       "      <th>Month_pickup</th>\n",
       "      <th>Day of Week_pickup</th>\n",
       "    </tr>\n",
       "  </thead>\n",
       "  <tbody>\n",
       "    <tr>\n",
       "      <th>0</th>\n",
       "      <td>2</td>\n",
       "      <td>2018-06-01 00:33:55</td>\n",
       "      <td>2018-06-01 00:36:13</td>\n",
       "      <td>1</td>\n",
       "      <td>66</td>\n",
       "      <td>33</td>\n",
       "      <td>5</td>\n",
       "      <td>0.51</td>\n",
       "      <td>4.0</td>\n",
       "      <td>0.70</td>\n",
       "      <td>6.00</td>\n",
       "      <td>1</td>\n",
       "      <td>1</td>\n",
       "      <td>0</td>\n",
       "      <td>6</td>\n",
       "      <td>Fri</td>\n",
       "    </tr>\n",
       "    <tr>\n",
       "      <th>1</th>\n",
       "      <td>2</td>\n",
       "      <td>2018-06-01 00:40:36</td>\n",
       "      <td>2018-06-01 00:49:46</td>\n",
       "      <td>1</td>\n",
       "      <td>25</td>\n",
       "      <td>49</td>\n",
       "      <td>5</td>\n",
       "      <td>1.97</td>\n",
       "      <td>9.0</td>\n",
       "      <td>2.06</td>\n",
       "      <td>12.36</td>\n",
       "      <td>1</td>\n",
       "      <td>1</td>\n",
       "      <td>0</td>\n",
       "      <td>6</td>\n",
       "      <td>Fri</td>\n",
       "    </tr>\n",
       "    <tr>\n",
       "      <th>2</th>\n",
       "      <td>2</td>\n",
       "      <td>2018-06-01 00:57:12</td>\n",
       "      <td>2018-06-01 01:02:58</td>\n",
       "      <td>1</td>\n",
       "      <td>61</td>\n",
       "      <td>49</td>\n",
       "      <td>5</td>\n",
       "      <td>1.40</td>\n",
       "      <td>6.5</td>\n",
       "      <td>0.00</td>\n",
       "      <td>7.80</td>\n",
       "      <td>2</td>\n",
       "      <td>1</td>\n",
       "      <td>0</td>\n",
       "      <td>6</td>\n",
       "      <td>Fri</td>\n",
       "    </tr>\n",
       "    <tr>\n",
       "      <th>3</th>\n",
       "      <td>2</td>\n",
       "      <td>2018-06-01 00:10:13</td>\n",
       "      <td>2018-06-01 00:16:27</td>\n",
       "      <td>1</td>\n",
       "      <td>49</td>\n",
       "      <td>97</td>\n",
       "      <td>1</td>\n",
       "      <td>1.36</td>\n",
       "      <td>7.0</td>\n",
       "      <td>0.00</td>\n",
       "      <td>8.30</td>\n",
       "      <td>2</td>\n",
       "      <td>1</td>\n",
       "      <td>0</td>\n",
       "      <td>6</td>\n",
       "      <td>Fri</td>\n",
       "    </tr>\n",
       "    <tr>\n",
       "      <th>4</th>\n",
       "      <td>1</td>\n",
       "      <td>2018-06-01 00:32:08</td>\n",
       "      <td>2018-06-01 00:52:06</td>\n",
       "      <td>1</td>\n",
       "      <td>75</td>\n",
       "      <td>127</td>\n",
       "      <td>1</td>\n",
       "      <td>7.90</td>\n",
       "      <td>24.0</td>\n",
       "      <td>6.30</td>\n",
       "      <td>31.60</td>\n",
       "      <td>1</td>\n",
       "      <td>1</td>\n",
       "      <td>0</td>\n",
       "      <td>6</td>\n",
       "      <td>Fri</td>\n",
       "    </tr>\n",
       "  </tbody>\n",
       "</table>\n",
       "</div>"
      ],
      "text/plain": [
       "   VendorID lpep_pickup_datetime lpep_dropoff_datetime  RatecodeID  \\\n",
       "0         2  2018-06-01 00:33:55   2018-06-01 00:36:13           1   \n",
       "1         2  2018-06-01 00:40:36   2018-06-01 00:49:46           1   \n",
       "2         2  2018-06-01 00:57:12   2018-06-01 01:02:58           1   \n",
       "3         2  2018-06-01 00:10:13   2018-06-01 00:16:27           1   \n",
       "4         1  2018-06-01 00:32:08   2018-06-01 00:52:06           1   \n",
       "\n",
       "   PULocationID  DOLocationID  passenger_count  trip_distance  fare_amount  \\\n",
       "0            66            33                5           0.51          4.0   \n",
       "1            25            49                5           1.97          9.0   \n",
       "2            61            49                5           1.40          6.5   \n",
       "3            49            97                1           1.36          7.0   \n",
       "4            75           127                1           7.90         24.0   \n",
       "\n",
       "   tip_amount  total_amount  payment_type  trip_type  Hour_pickup  \\\n",
       "0        0.70          6.00             1          1            0   \n",
       "1        2.06         12.36             1          1            0   \n",
       "2        0.00          7.80             2          1            0   \n",
       "3        0.00          8.30             2          1            0   \n",
       "4        6.30         31.60             1          1            0   \n",
       "\n",
       "   Month_pickup Day of Week_pickup  \n",
       "0             6                Fri  \n",
       "1             6                Fri  \n",
       "2             6                Fri  \n",
       "3             6                Fri  \n",
       "4             6                Fri  "
      ]
     },
     "execution_count": 14,
     "metadata": {},
     "output_type": "execute_result"
    }
   ],
   "source": [
    "# Use the .map() with this dictionary to map the actual string names to the day of the week:\n",
    "dmap = {0:'Mon',1:'Tue',2:'Wed',3:'Thu',4:'Fri',5:'Sat',6:'Sun'}\n",
    "taxi['Day of Week_pickup'] = taxi['Day of Week_pickup'].map(dmap)\n",
    "taxi.head(5)"
   ]
  },
  {
   "cell_type": "code",
   "execution_count": 15,
   "metadata": {},
   "outputs": [],
   "source": [
    "# splitting the lpep_dropoff_datetime to a seperate column inti hours, month aand day of the week.\n",
    "taxi['Hour_drop'] = taxi['lpep_dropoff_datetime'].apply(lambda time: time.hour)\n",
    "taxi['Month_drop'] = taxi['lpep_dropoff_datetime'].apply(lambda time: time.month)\n",
    "taxi['Day of Week_drop'] = taxi['lpep_dropoff_datetime'].apply(lambda time: time.dayofweek)"
   ]
  },
  {
   "cell_type": "code",
   "execution_count": 16,
   "metadata": {},
   "outputs": [
    {
     "data": {
      "text/html": [
       "<div>\n",
       "<style scoped>\n",
       "    .dataframe tbody tr th:only-of-type {\n",
       "        vertical-align: middle;\n",
       "    }\n",
       "\n",
       "    .dataframe tbody tr th {\n",
       "        vertical-align: top;\n",
       "    }\n",
       "\n",
       "    .dataframe thead th {\n",
       "        text-align: right;\n",
       "    }\n",
       "</style>\n",
       "<table border=\"1\" class=\"dataframe\">\n",
       "  <thead>\n",
       "    <tr style=\"text-align: right;\">\n",
       "      <th></th>\n",
       "      <th>VendorID</th>\n",
       "      <th>lpep_pickup_datetime</th>\n",
       "      <th>lpep_dropoff_datetime</th>\n",
       "      <th>RatecodeID</th>\n",
       "      <th>PULocationID</th>\n",
       "      <th>DOLocationID</th>\n",
       "      <th>passenger_count</th>\n",
       "      <th>trip_distance</th>\n",
       "      <th>fare_amount</th>\n",
       "      <th>tip_amount</th>\n",
       "      <th>total_amount</th>\n",
       "      <th>payment_type</th>\n",
       "      <th>trip_type</th>\n",
       "      <th>Hour_pickup</th>\n",
       "      <th>Month_pickup</th>\n",
       "      <th>Day of Week_pickup</th>\n",
       "      <th>Hour_drop</th>\n",
       "      <th>Month_drop</th>\n",
       "      <th>Day of Week_drop</th>\n",
       "    </tr>\n",
       "  </thead>\n",
       "  <tbody>\n",
       "    <tr>\n",
       "      <th>0</th>\n",
       "      <td>2</td>\n",
       "      <td>2018-06-01 00:33:55</td>\n",
       "      <td>2018-06-01 00:36:13</td>\n",
       "      <td>1</td>\n",
       "      <td>66</td>\n",
       "      <td>33</td>\n",
       "      <td>5</td>\n",
       "      <td>0.51</td>\n",
       "      <td>4.0</td>\n",
       "      <td>0.70</td>\n",
       "      <td>6.00</td>\n",
       "      <td>1</td>\n",
       "      <td>1</td>\n",
       "      <td>0</td>\n",
       "      <td>6</td>\n",
       "      <td>Fri</td>\n",
       "      <td>0</td>\n",
       "      <td>6</td>\n",
       "      <td>Fri</td>\n",
       "    </tr>\n",
       "    <tr>\n",
       "      <th>1</th>\n",
       "      <td>2</td>\n",
       "      <td>2018-06-01 00:40:36</td>\n",
       "      <td>2018-06-01 00:49:46</td>\n",
       "      <td>1</td>\n",
       "      <td>25</td>\n",
       "      <td>49</td>\n",
       "      <td>5</td>\n",
       "      <td>1.97</td>\n",
       "      <td>9.0</td>\n",
       "      <td>2.06</td>\n",
       "      <td>12.36</td>\n",
       "      <td>1</td>\n",
       "      <td>1</td>\n",
       "      <td>0</td>\n",
       "      <td>6</td>\n",
       "      <td>Fri</td>\n",
       "      <td>0</td>\n",
       "      <td>6</td>\n",
       "      <td>Fri</td>\n",
       "    </tr>\n",
       "    <tr>\n",
       "      <th>2</th>\n",
       "      <td>2</td>\n",
       "      <td>2018-06-01 00:57:12</td>\n",
       "      <td>2018-06-01 01:02:58</td>\n",
       "      <td>1</td>\n",
       "      <td>61</td>\n",
       "      <td>49</td>\n",
       "      <td>5</td>\n",
       "      <td>1.40</td>\n",
       "      <td>6.5</td>\n",
       "      <td>0.00</td>\n",
       "      <td>7.80</td>\n",
       "      <td>2</td>\n",
       "      <td>1</td>\n",
       "      <td>0</td>\n",
       "      <td>6</td>\n",
       "      <td>Fri</td>\n",
       "      <td>1</td>\n",
       "      <td>6</td>\n",
       "      <td>Fri</td>\n",
       "    </tr>\n",
       "    <tr>\n",
       "      <th>3</th>\n",
       "      <td>2</td>\n",
       "      <td>2018-06-01 00:10:13</td>\n",
       "      <td>2018-06-01 00:16:27</td>\n",
       "      <td>1</td>\n",
       "      <td>49</td>\n",
       "      <td>97</td>\n",
       "      <td>1</td>\n",
       "      <td>1.36</td>\n",
       "      <td>7.0</td>\n",
       "      <td>0.00</td>\n",
       "      <td>8.30</td>\n",
       "      <td>2</td>\n",
       "      <td>1</td>\n",
       "      <td>0</td>\n",
       "      <td>6</td>\n",
       "      <td>Fri</td>\n",
       "      <td>0</td>\n",
       "      <td>6</td>\n",
       "      <td>Fri</td>\n",
       "    </tr>\n",
       "    <tr>\n",
       "      <th>4</th>\n",
       "      <td>1</td>\n",
       "      <td>2018-06-01 00:32:08</td>\n",
       "      <td>2018-06-01 00:52:06</td>\n",
       "      <td>1</td>\n",
       "      <td>75</td>\n",
       "      <td>127</td>\n",
       "      <td>1</td>\n",
       "      <td>7.90</td>\n",
       "      <td>24.0</td>\n",
       "      <td>6.30</td>\n",
       "      <td>31.60</td>\n",
       "      <td>1</td>\n",
       "      <td>1</td>\n",
       "      <td>0</td>\n",
       "      <td>6</td>\n",
       "      <td>Fri</td>\n",
       "      <td>0</td>\n",
       "      <td>6</td>\n",
       "      <td>Fri</td>\n",
       "    </tr>\n",
       "  </tbody>\n",
       "</table>\n",
       "</div>"
      ],
      "text/plain": [
       "   VendorID lpep_pickup_datetime lpep_dropoff_datetime  RatecodeID  \\\n",
       "0         2  2018-06-01 00:33:55   2018-06-01 00:36:13           1   \n",
       "1         2  2018-06-01 00:40:36   2018-06-01 00:49:46           1   \n",
       "2         2  2018-06-01 00:57:12   2018-06-01 01:02:58           1   \n",
       "3         2  2018-06-01 00:10:13   2018-06-01 00:16:27           1   \n",
       "4         1  2018-06-01 00:32:08   2018-06-01 00:52:06           1   \n",
       "\n",
       "   PULocationID  DOLocationID  passenger_count  trip_distance  fare_amount  \\\n",
       "0            66            33                5           0.51          4.0   \n",
       "1            25            49                5           1.97          9.0   \n",
       "2            61            49                5           1.40          6.5   \n",
       "3            49            97                1           1.36          7.0   \n",
       "4            75           127                1           7.90         24.0   \n",
       "\n",
       "   tip_amount  total_amount  payment_type  trip_type  Hour_pickup  \\\n",
       "0        0.70          6.00             1          1            0   \n",
       "1        2.06         12.36             1          1            0   \n",
       "2        0.00          7.80             2          1            0   \n",
       "3        0.00          8.30             2          1            0   \n",
       "4        6.30         31.60             1          1            0   \n",
       "\n",
       "   Month_pickup Day of Week_pickup  Hour_drop  Month_drop Day of Week_drop  \n",
       "0             6                Fri          0           6              Fri  \n",
       "1             6                Fri          0           6              Fri  \n",
       "2             6                Fri          1           6              Fri  \n",
       "3             6                Fri          0           6              Fri  \n",
       "4             6                Fri          0           6              Fri  "
      ]
     },
     "execution_count": 16,
     "metadata": {},
     "output_type": "execute_result"
    }
   ],
   "source": [
    "# Use the .map() with this dictionary to map the actual string names to the day of the week:\n",
    "dmap = {0:'Mon',1:'Tue',2:'Wed',3:'Thu',4:'Fri',5:'Sat',6:'Sun'}\n",
    "taxi['Day of Week_drop'] = taxi['Day of Week_drop'].map(dmap)\n",
    "taxi.head(5)"
   ]
  },
  {
   "cell_type": "markdown",
   "metadata": {},
   "source": [
    "<h1> Task 2 - Analyzing trends\n",
    "<h4> For the analysis, trying to find some similarities, trends among the two type of trips\n",
    "<h4> For the trip_type column 1 -> Street-hail type of trip, 2 -> Dispatch type of trip"
   ]
  },
  {
   "cell_type": "code",
   "execution_count": 17,
   "metadata": {},
   "outputs": [
    {
     "data": {
      "text/plain": [
       "1    727734\n",
       "2     11639\n",
       "Name: trip_type, dtype: int64"
      ]
     },
     "execution_count": 17,
     "metadata": {},
     "output_type": "execute_result"
    }
   ],
   "source": [
    "# 1 = street hail, 2 = dispatch, counting trips by each of the type\n",
    "taxi['trip_type'].value_counts()"
   ]
  },
  {
   "cell_type": "code",
   "execution_count": 18,
   "metadata": {},
   "outputs": [
    {
     "data": {
      "text/plain": [
       "<matplotlib.axes._subplots.AxesSubplot at 0x1a08c138d0>"
      ]
     },
     "execution_count": 18,
     "metadata": {},
     "output_type": "execute_result"
    },
    {
     "data": {
      "image/png": "[encoded data removed]",
      "text/plain": [
       "<Figure size 432x288 with 1 Axes>"
      ]
     },
     "metadata": {},
     "output_type": "display_data"
    }
   ],
   "source": [
    "# Visuaaly showing the distribution of both the type of trips\n",
    "sns.countplot(x='trip_type',data=taxi,palette='viridis')"
   ]
  },
  {
   "cell_type": "markdown",
   "metadata": {},
   "source": [
    "<h4> One of the research question is at what time the most number of taxis are requested for ride"
   ]
  },
  {
   "cell_type": "code",
   "execution_count": 19,
   "metadata": {},
   "outputs": [
    {
     "name": "stdout",
     "output_type": "stream",
     "text": [
      "Most taxi rides requested at hour :  18    51162\n",
      "Name: Hour_pickup, dtype: int64\n"
     ]
    }
   ],
   "source": [
    "# At what hour is the most taxi rides are taken\n",
    "h1 = taxi['Hour_pickup'].value_counts().head(1)\n",
    "print('Most taxi rides requested at hour : ', h1)"
   ]
  },
  {
   "cell_type": "code",
   "execution_count": 20,
   "metadata": {},
   "outputs": [
    {
     "name": "stdout",
     "output_type": "stream",
     "text": [
      "At what hour Street hail type of trip are requested for rides :  18    50575\n",
      "Name: Hour_pickup, dtype: int64\n"
     ]
    }
   ],
   "source": [
    "# At what hour Street hail type of trip are requested for rides\n",
    "h2 = taxi[taxi['trip_type'] == 1]['Hour_pickup'].value_counts().head(1)\n",
    "print('At what hour Street hail type of trip are requested for rides : ', h2)"
   ]
  },
  {
   "cell_type": "code",
   "execution_count": 21,
   "metadata": {},
   "outputs": [
    {
     "name": "stdout",
     "output_type": "stream",
     "text": [
      "At what hour dispatch type of trip are requested for rides: 8    642\n",
      "Name: Hour_pickup, dtype: int64\n"
     ]
    }
   ],
   "source": [
    "# At what hour dispatch type of trip are requested for rides\n",
    "h3 = taxi[taxi['trip_type'] == 2]['Hour_pickup'].value_counts().head(1)\n",
    "print('At what hour dispatch type of trip are requested for rides:', h3)"
   ]
  },
  {
   "cell_type": "markdown",
   "metadata": {},
   "source": [
    "<h4> Which is the most busiest day for taxi rides"
   ]
  },
  {
   "cell_type": "code",
   "execution_count": 22,
   "metadata": {},
   "outputs": [
    {
     "name": "stdout",
     "output_type": "stream",
     "text": [
      "The most dispatch type ride is on : Sat    2311\n",
      "Fri    2037\n",
      "Sun    1623\n",
      "Mon    1491\n",
      "Thu    1445\n",
      "Wed    1426\n",
      "Tue    1306\n",
      "Name: Day of Week_drop, dtype: int64\n"
     ]
    }
   ],
   "source": [
    "d1= taxi[taxi['trip_type'] == 2]['Day of Week_drop'].value_counts()\n",
    "print('The most dispatch type ride is on :',d1)"
   ]
  },
  {
   "cell_type": "code",
   "execution_count": 23,
   "metadata": {},
   "outputs": [
    {
     "name": "stdout",
     "output_type": "stream",
     "text": [
      "The most dispatch type ride is on : Sat    131738\n",
      "Fri    127527\n",
      "Thu     98399\n",
      "Wed     95876\n",
      "Sun     93109\n",
      "Tue     91600\n",
      "Mon     89485\n",
      "Name: Day of Week_drop, dtype: int64\n"
     ]
    }
   ],
   "source": [
    "d2= taxi[taxi['trip_type'] == 1]['Day of Week_drop'].value_counts()\n",
    "print('The most dispatch type ride is on :',d2)"
   ]
  },
  {
   "cell_type": "code",
   "execution_count": 24,
   "metadata": {},
   "outputs": [
    {
     "data": {
      "text/plain": [
       "<matplotlib.legend.Legend at 0x1a1345de48>"
      ]
     },
     "execution_count": 24,
     "metadata": {},
     "output_type": "execute_result"
    },
    {
     "data": {
      "image/png": "[encoded data removed]",
      "text/plain": [
       "<Figure size 432x288 with 1 Axes>"
      ]
     },
     "metadata": {},
     "output_type": "display_data"
    }
   ],
   "source": [
    "#  countplot of the Day of Week column with the hue based off of the trip_type column.\n",
    "sns.countplot(x='Day of Week_pickup',data=taxi,hue='trip_type',palette='viridis')\n",
    "# To relocate the legend\n",
    "plt.legend(bbox_to_anchor=(1.05, 1), loc=2, borderaxespad=0.)"
   ]
  },
  {
   "cell_type": "markdown",
   "metadata": {},
   "source": [
    "<h4> Which pick up location is mostly influenced for requesting a taxi ride"
   ]
  },
  {
   "cell_type": "code",
   "execution_count": 25,
   "metadata": {},
   "outputs": [
    {
     "name": "stdout",
     "output_type": "stream",
     "text": [
      "The most Street-hail type ride is on : 74    47137\n",
      "Name: PULocationID, dtype: int64\n"
     ]
    }
   ],
   "source": [
    "d3= taxi[taxi['trip_type'] == 1]['PULocationID'].value_counts().head(1)\n",
    "print('The most Street-hail type ride is on :',d3)"
   ]
  },
  {
   "cell_type": "code",
   "execution_count": 26,
   "metadata": {},
   "outputs": [
    {
     "name": "stdout",
     "output_type": "stream",
     "text": [
      "The most dispatch type ride is on : 244    554\n",
      "Name: PULocationID, dtype: int64\n"
     ]
    }
   ],
   "source": [
    "d4= taxi[taxi['trip_type'] == 2]['PULocationID'].value_counts().head(1)\n",
    "print('The most dispatch type ride is on :',d4)"
   ]
  },
  {
   "cell_type": "markdown",
   "metadata": {},
   "source": [
    "<h4> Finding the trends between tip_amount and total_amount"
   ]
  },
  {
   "cell_type": "code",
   "execution_count": 34,
   "metadata": {},
   "outputs": [
    {
     "data": {
      "text/plain": [
       "Text(0.5,1,'Trend of tip with total_amount')"
      ]
     },
     "execution_count": 34,
     "metadata": {},
     "output_type": "execute_result"
    },
    {
     "data": {
      "image/png": "[encoded data removed]",
      "text/plain": [
       "<Figure size 406.5x360 with 1 Axes>"
      ]
     },
     "metadata": {},
     "output_type": "display_data"
    }
   ],
   "source": [
    "sns.lmplot(x='total_amount', y='tip_amount',hue='trip_type', data=taxi)\n",
    "plt.xlabel('total_amount')\n",
    "plt.ylabel('tip')\n",
    "plt.title('Trend of tip with total_amount')"
   ]
  },
  {
   "cell_type": "code",
   "execution_count": 35,
   "metadata": {},
   "outputs": [
    {
     "data": {
      "text/plain": [
       "VendorID                                   2\n",
       "lpep_pickup_datetime     2018-06-30 16:54:07\n",
       "lpep_dropoff_datetime    2018-06-30 17:08:24\n",
       "RatecodeID                                 1\n",
       "PULocationID                             166\n",
       "DOLocationID                             246\n",
       "passenger_count                            1\n",
       "trip_distance                           4.48\n",
       "fare_amount                               16\n",
       "tip_amount                            444.44\n",
       "total_amount                          461.24\n",
       "payment_type                               1\n",
       "trip_type                                  1\n",
       "Hour_pickup                               16\n",
       "Month_pickup                               6\n",
       "Day of Week_pickup                       Sat\n",
       "Hour_drop                                 17\n",
       "Month_drop                                 6\n",
       "Day of Week_drop                         Sat\n",
       "Name: 727733, dtype: object"
      ]
     },
     "execution_count": 35,
     "metadata": {},
     "output_type": "execute_result"
    }
   ],
   "source": [
    "taxi.loc[taxi['tip_amount'].idxmax()]"
   ]
  },
  {
   "cell_type": "markdown",
   "metadata": {},
   "source": [
    "<h4> The rides requested are often for how many peoples and is there any different between number of people can take ride from both the trip_type"
   ]
  },
  {
   "cell_type": "code",
   "execution_count": 27,
   "metadata": {},
   "outputs": [
    {
     "data": {
      "text/plain": [
       "1    9238\n",
       "2    1462\n",
       "3     454\n",
       "4     185\n",
       "5     184\n",
       "0      85\n",
       "8      12\n",
       "7      10\n",
       "6       7\n",
       "9       2\n",
       "Name: passenger_count, dtype: int64"
      ]
     },
     "execution_count": 27,
     "metadata": {},
     "output_type": "execute_result"
    }
   ],
   "source": [
    "d5 = taxi[taxi['trip_type'] == 2]['passenger_count'].value_counts()\n",
    "d5"
   ]
  },
  {
   "cell_type": "code",
   "execution_count": 28,
   "metadata": {},
   "outputs": [
    {
     "data": {
      "text/plain": [
       "1    614765\n",
       "2     55770\n",
       "5     24801\n",
       "6     13580\n",
       "3     12553\n",
       "4      4776\n",
       "0      1487\n",
       "8         1\n",
       "7         1\n",
       "Name: passenger_count, dtype: int64"
      ]
     },
     "execution_count": 28,
     "metadata": {},
     "output_type": "execute_result"
    }
   ],
   "source": [
    "d6 = taxi[taxi['trip_type'] == 1]['passenger_count'].value_counts()\n",
    "d6"
   ]
  },
  {
   "cell_type": "markdown",
   "metadata": {},
   "source": [
    "<h4> Total revenue generated from each of the two type of trip"
   ]
  },
  {
   "cell_type": "code",
   "execution_count": 29,
   "metadata": {},
   "outputs": [
    {
     "name": "stdout",
     "output_type": "stream",
     "text": [
      "Total fare collected from dispatch type of ride : $ 236119.6\n"
     ]
    }
   ],
   "source": [
    "# Total revenue generated by total fare by dispatch type of ride\n",
    "d6 = sum(taxi[taxi['trip_type'] == 2]['total_amount'])\n",
    "print('Total fare collected from dispatch type of ride : $',round(d6,2))"
   ]
  },
  {
   "cell_type": "code",
   "execution_count": 30,
   "metadata": {},
   "outputs": [
    {
     "name": "stdout",
     "output_type": "stream",
     "text": [
      "Total fare collected from Hail-Street type of ride : $ 11780306.56\n"
     ]
    }
   ],
   "source": [
    "# # Total revenue generated by total fare by Hail-Street type of ride\n",
    "d7 = sum(taxi[taxi['trip_type'] == 1]['total_amount'])\n",
    "print('Total fare collected from Hail-Street type of ride : $',round(d7,2))"
   ]
  },
  {
   "cell_type": "markdown",
   "metadata": {},
   "source": [
    "<h4> Distribution of payment type by customer \n",
    "1= Credit card\n",
    "2= Cash\n",
    "3= No charge\n",
    "4= Dispute\n",
    "5= Unknown"
   ]
  },
  {
   "cell_type": "code",
   "execution_count": 31,
   "metadata": {},
   "outputs": [
    {
     "data": {
      "text/plain": [
       "1    412479\n",
       "2    310159\n",
       "3      3384\n",
       "4      1687\n",
       "5        25\n",
       "Name: payment_type, dtype: int64"
      ]
     },
     "execution_count": 31,
     "metadata": {},
     "output_type": "execute_result"
    }
   ],
   "source": [
    "# Distribution of payment type by hail-street type of ride\n",
    "d8 = taxi[taxi['trip_type'] == 1]['payment_type'].value_counts()\n",
    "d8"
   ]
  },
  {
   "cell_type": "code",
   "execution_count": 32,
   "metadata": {},
   "outputs": [
    {
     "data": {
      "text/plain": [
       "2    6773\n",
       "1    4597\n",
       "3     158\n",
       "4     107\n",
       "5       4\n",
       "Name: payment_type, dtype: int64"
      ]
     },
     "execution_count": 32,
     "metadata": {},
     "output_type": "execute_result"
    }
   ],
   "source": [
    "d9 = taxi[taxi['trip_type'] == 2]['payment_type'].value_counts()\n",
    "d9"
   ]
  },
  {
   "cell_type": "code",
   "execution_count": 33,
   "metadata": {},
   "outputs": [
    {
     "data": {
      "text/plain": [
       "<matplotlib.legend.Legend at 0x1052ca2b0>"
      ]
     },
     "execution_count": 33,
     "metadata": {},
     "output_type": "execute_result"
    },
    {
     "data": {
      "image/png": "[encoded data removed]",
      "text/plain": [
       "<Figure size 432x288 with 1 Axes>"
      ]
     },
     "metadata": {},
     "output_type": "display_data"
    }
   ],
   "source": [
    "#  countplot of the Day of Week column with the hue based off of the trip_type column.\n",
    "sns.countplot(x='payment_type',data=taxi,hue='trip_type',palette='viridis')\n",
    "# To relocate the legend\n",
    "plt.legend(bbox_to_anchor=(1.05, 1), loc=2, borderaxespad=0.)"
   ]
  },
  {
   "cell_type": "markdown",
   "metadata": {},
   "source": [
    "<h1> Task - 3 Creating predictive model"
   ]
  },
  {
   "cell_type": "code",
   "execution_count": 88,
   "metadata": {},
   "outputs": [
    {
     "data": {
      "text/html": [
       "<div>\n",
       "<style scoped>\n",
       "    .dataframe tbody tr th:only-of-type {\n",
       "        vertical-align: middle;\n",
       "    }\n",
       "\n",
       "    .dataframe tbody tr th {\n",
       "        vertical-align: top;\n",
       "    }\n",
       "\n",
       "    .dataframe thead th {\n",
       "        text-align: right;\n",
       "    }\n",
       "</style>\n",
       "<table border=\"1\" class=\"dataframe\">\n",
       "  <thead>\n",
       "    <tr style=\"text-align: right;\">\n",
       "      <th></th>\n",
       "      <th>VendorID</th>\n",
       "      <th>lpep_pickup_datetime</th>\n",
       "      <th>lpep_dropoff_datetime</th>\n",
       "      <th>RatecodeID</th>\n",
       "      <th>PULocationID</th>\n",
       "      <th>DOLocationID</th>\n",
       "      <th>passenger_count</th>\n",
       "      <th>trip_distance</th>\n",
       "      <th>fare_amount</th>\n",
       "      <th>tip_amount</th>\n",
       "      <th>total_amount</th>\n",
       "      <th>payment_type</th>\n",
       "      <th>trip_type</th>\n",
       "      <th>Hour_pickup</th>\n",
       "      <th>Month_pickup</th>\n",
       "      <th>Day of Week_pickup</th>\n",
       "      <th>Hour_drop</th>\n",
       "      <th>Month_drop</th>\n",
       "      <th>Day of Week_drop</th>\n",
       "    </tr>\n",
       "  </thead>\n",
       "  <tbody>\n",
       "    <tr>\n",
       "      <th>0</th>\n",
       "      <td>2</td>\n",
       "      <td>2018-06-01 00:33:55</td>\n",
       "      <td>2018-06-01 00:36:13</td>\n",
       "      <td>1</td>\n",
       "      <td>66</td>\n",
       "      <td>33</td>\n",
       "      <td>5</td>\n",
       "      <td>0.51</td>\n",
       "      <td>4.0</td>\n",
       "      <td>0.70</td>\n",
       "      <td>6.00</td>\n",
       "      <td>1</td>\n",
       "      <td>1</td>\n",
       "      <td>0</td>\n",
       "      <td>6</td>\n",
       "      <td>Fri</td>\n",
       "      <td>0</td>\n",
       "      <td>6</td>\n",
       "      <td>Fri</td>\n",
       "    </tr>\n",
       "    <tr>\n",
       "      <th>1</th>\n",
       "      <td>2</td>\n",
       "      <td>2018-06-01 00:40:36</td>\n",
       "      <td>2018-06-01 00:49:46</td>\n",
       "      <td>1</td>\n",
       "      <td>25</td>\n",
       "      <td>49</td>\n",
       "      <td>5</td>\n",
       "      <td>1.97</td>\n",
       "      <td>9.0</td>\n",
       "      <td>2.06</td>\n",
       "      <td>12.36</td>\n",
       "      <td>1</td>\n",
       "      <td>1</td>\n",
       "      <td>0</td>\n",
       "      <td>6</td>\n",
       "      <td>Fri</td>\n",
       "      <td>0</td>\n",
       "      <td>6</td>\n",
       "      <td>Fri</td>\n",
       "    </tr>\n",
       "    <tr>\n",
       "      <th>2</th>\n",
       "      <td>2</td>\n",
       "      <td>2018-06-01 00:57:12</td>\n",
       "      <td>2018-06-01 01:02:58</td>\n",
       "      <td>1</td>\n",
       "      <td>61</td>\n",
       "      <td>49</td>\n",
       "      <td>5</td>\n",
       "      <td>1.40</td>\n",
       "      <td>6.5</td>\n",
       "      <td>0.00</td>\n",
       "      <td>7.80</td>\n",
       "      <td>2</td>\n",
       "      <td>1</td>\n",
       "      <td>0</td>\n",
       "      <td>6</td>\n",
       "      <td>Fri</td>\n",
       "      <td>1</td>\n",
       "      <td>6</td>\n",
       "      <td>Fri</td>\n",
       "    </tr>\n",
       "  </tbody>\n",
       "</table>\n",
       "</div>"
      ],
      "text/plain": [
       "   VendorID lpep_pickup_datetime lpep_dropoff_datetime  RatecodeID  \\\n",
       "0         2  2018-06-01 00:33:55   2018-06-01 00:36:13           1   \n",
       "1         2  2018-06-01 00:40:36   2018-06-01 00:49:46           1   \n",
       "2         2  2018-06-01 00:57:12   2018-06-01 01:02:58           1   \n",
       "\n",
       "   PULocationID  DOLocationID  passenger_count  trip_distance  fare_amount  \\\n",
       "0            66            33                5           0.51          4.0   \n",
       "1            25            49                5           1.97          9.0   \n",
       "2            61            49                5           1.40          6.5   \n",
       "\n",
       "   tip_amount  total_amount  payment_type  trip_type  Hour_pickup  \\\n",
       "0        0.70          6.00             1          1            0   \n",
       "1        2.06         12.36             1          1            0   \n",
       "2        0.00          7.80             2          1            0   \n",
       "\n",
       "   Month_pickup Day of Week_pickup  Hour_drop  Month_drop Day of Week_drop  \n",
       "0             6                Fri          0           6              Fri  \n",
       "1             6                Fri          0           6              Fri  \n",
       "2             6                Fri          1           6              Fri  "
      ]
     },
     "execution_count": 88,
     "metadata": {},
     "output_type": "execute_result"
    }
   ],
   "source": [
    "taxi.head(3)"
   ]
  },
  {
   "cell_type": "markdown",
   "metadata": {},
   "source": [
    "<h4> Heat map to find the correlation between the variables"
   ]
  },
  {
   "cell_type": "code",
   "execution_count": 210,
   "metadata": {},
   "outputs": [
    {
     "data": {
      "text/plain": [
       "<matplotlib.axes._subplots.AxesSubplot at 0x1a58e262e8>"
      ]
     },
     "execution_count": 210,
     "metadata": {},
     "output_type": "execute_result"
    },
    {
     "data": {
      "image/png": "[encoded data removed]",
      "text/plain": [
       "<Figure size 720x720 with 2 Axes>"
      ]
     },
     "metadata": {},
     "output_type": "display_data"
    }
   ],
   "source": [
    "fig, ax = plt.subplots(figsize=(10,10))\n",
    "sns.heatmap(taxi.corr(),cmap='coolwarm',annot=True, linewidths=1, annot_kws={\"size\":5})"
   ]
  },
  {
   "cell_type": "markdown",
   "metadata": {},
   "source": [
    "<h4> Splitting the dataset into X and y, where y has the dependent variable whihc is trip_type. So we are trying to predict the trip type for the test set of June 2018"
   ]
  },
  {
   "cell_type": "code",
   "execution_count": 149,
   "metadata": {},
   "outputs": [],
   "source": [
    "X = taxi.iloc[:,[0,3,4,5,6,7,8,9,10,11,13,14,16,17]].values\n",
    "y = taxi.iloc[:,12].values"
   ]
  },
  {
   "cell_type": "markdown",
   "metadata": {},
   "source": [
    "<h4> Splitting into X_train, X_test, y_train, y_test"
   ]
  },
  {
   "cell_type": "code",
   "execution_count": 150,
   "metadata": {},
   "outputs": [],
   "source": [
    "from sklearn.cross_validation import train_test_split\n",
    "X_train, X_test, y_train, y_test = train_test_split(X, y, test_size = 0.25, random_state = 0)"
   ]
  },
  {
   "cell_type": "markdown",
   "metadata": {},
   "source": [
    "<h4> Creating a classification algorithm - Logistic Regression model, to predict the trip type"
   ]
  },
  {
   "cell_type": "code",
   "execution_count": 154,
   "metadata": {},
   "outputs": [
    {
     "data": {
      "text/plain": [
       "LogisticRegression(C=1.0, class_weight=None, dual=False, fit_intercept=True,\n",
       "          intercept_scaling=1, max_iter=100, multi_class='ovr', n_jobs=1,\n",
       "          penalty='l2', random_state=0, solver='liblinear', tol=0.0001,\n",
       "          verbose=0, warm_start=False)"
      ]
     },
     "execution_count": 154,
     "metadata": {},
     "output_type": "execute_result"
    }
   ],
   "source": [
    "from sklearn.linear_model import LogisticRegression\n",
    "classifier = LogisticRegression(random_state = 0)\n",
    "classifier.fit(X_train, y_train)"
   ]
  },
  {
   "cell_type": "markdown",
   "metadata": {},
   "source": [
    "<h4> Fitting the model to predict the X_test set"
   ]
  },
  {
   "cell_type": "code",
   "execution_count": 155,
   "metadata": {},
   "outputs": [],
   "source": [
    "y_pred = classifier.predict(X_test)"
   ]
  },
  {
   "cell_type": "code",
   "execution_count": 156,
   "metadata": {},
   "outputs": [
    {
     "data": {
      "text/plain": [
       "array([1, 1, 1, ..., 1, 1, 1])"
      ]
     },
     "execution_count": 156,
     "metadata": {},
     "output_type": "execute_result"
    }
   ],
   "source": [
    "y_pred"
   ]
  },
  {
   "cell_type": "markdown",
   "metadata": {},
   "source": [
    "<h4> Confusion Matrix for checking the accuracy"
   ]
  },
  {
   "cell_type": "code",
   "execution_count": 157,
   "metadata": {},
   "outputs": [],
   "source": [
    "# Creating confusion matrix\n",
    "from sklearn.metrics import confusion_matrix\n",
    "cm = confusion_matrix(y_test, y_pred)"
   ]
  },
  {
   "cell_type": "code",
   "execution_count": 220,
   "metadata": {},
   "outputs": [
    {
     "data": {
      "text/plain": [
       "array([[181806,    129],\n",
       "       [   256,   2653]])"
      ]
     },
     "execution_count": 220,
     "metadata": {},
     "output_type": "execute_result"
    }
   ],
   "source": [
    "cm"
   ]
  },
  {
   "cell_type": "markdown",
   "metadata": {},
   "source": [
    " <h4> From the confusion matrix is evident that the model performance is great with just 385 wrong prediction."
   ]
  },
  {
   "cell_type": "markdown",
   "metadata": {},
   "source": [
    "<h4> Creating a csv file of all the y_pred observation for the X_test observation"
   ]
  },
  {
   "cell_type": "code",
   "execution_count": 203,
   "metadata": {},
   "outputs": [],
   "source": [
    "Y_predicted_trip_type = pd.DataFrame(y_pred, columns=['predictions_Trip_Type']).to_csv('Y_predicted_trip_type.csv')\n"
   ]
  },
  {
   "cell_type": "markdown",
   "metadata": {},
   "source": [
    "<h4> Creating a csv file for all the X_test observation"
   ]
  },
  {
   "cell_type": "code",
   "execution_count": 204,
   "metadata": {},
   "outputs": [],
   "source": [
    "X_test_Data = pd.DataFrame(X_test, columns=['VendorID','RatecodeID', 'PULocationID', 'DOLocationID', 'passenger_count','trip_distance','fare_amount','tip_amount','total_amount','payment_type', 'Hour_pickup', 'Month_pickup','Hour_drop', 'Month_drop']).to_csv('X_test_Data.csv')"
   ]
  },
  {
   "cell_type": "markdown",
   "metadata": {},
   "source": [
    "<h4> Merging both the csv file and generating an output with the observation and predicted column"
   ]
  },
  {
   "cell_type": "code",
   "execution_count": 205,
   "metadata": {},
   "outputs": [],
   "source": [
    "a = pd.read_csv('X_test_Data.csv')"
   ]
  },
  {
   "cell_type": "code",
   "execution_count": 206,
   "metadata": {},
   "outputs": [],
   "source": [
    "b = pd.read_csv('Y_predicted_trip_type.csv')"
   ]
  },
  {
   "cell_type": "code",
   "execution_count": 207,
   "metadata": {},
   "outputs": [],
   "source": [
    "merged = a.merge(b)\n"
   ]
  },
  {
   "cell_type": "code",
   "execution_count": 208,
   "metadata": {},
   "outputs": [],
   "source": [
    "merged.to_csv(\"Predcition_output_June_2016.csv\", index=False)"
   ]
  },
  {
   "cell_type": "code",
   "execution_count": null,
   "metadata": {},
   "outputs": [],
   "source": []
  }
 ],
 "metadata": {
  "kernelspec": {
   "display_name": "Python 3",
   "language": "python",
   "name": "python3"
  },
  "language_info": {
   "codemirror_mode": {
    "name": "ipython",
    "version": 3
   },
   "file_extension": ".py",
   "mimetype": "text/x-python",
   "name": "python",
   "nbconvert_exporter": "python",
   "pygments_lexer": "ipython3",
   "version": "3.6.5"
  }
 },
 "nbformat": 4,
 "nbformat_minor": 2
}
